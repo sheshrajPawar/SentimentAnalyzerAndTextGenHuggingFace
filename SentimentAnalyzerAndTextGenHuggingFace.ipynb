{
 "cells": [
  {
   "cell_type": "code",
   "execution_count": 1,
   "id": "669cbf4e",
   "metadata": {},
   "outputs": [],
   "source": [
    "import warnings\n",
    "warnings.filterwarnings(\"ignore\")\n",
    "\n",
    "import numpy as np\n",
    "import pandas as pd\n",
    "import matplotlib.pyplot as plt\n",
    "import seaborn as sns\n",
    "sns.set()\n",
    "\n",
    "from sklearn.model_selection import train_test_split\n",
    "from sklearn.metrics import f1_score,confusion_matrix,roc_auc_score\n",
    "\n",
    "from transformers import pipeline\n",
    "\n",
    "import torch"
   ]
  },
  {
   "cell_type": "code",
   "execution_count": 2,
   "id": "dc71efe6",
   "metadata": {},
   "outputs": [
    {
     "name": "stderr",
     "output_type": "stream",
     "text": [
      "No model was supplied, defaulted to distilbert/distilbert-base-uncased-finetuned-sst-2-english and revision 714eb0f (https://huggingface.co/distilbert/distilbert-base-uncased-finetuned-sst-2-english).\n",
      "Using a pipeline without specifying a model name and revision in production is not recommended.\n"
     ]
    },
    {
     "data": {
      "text/plain": [
       "transformers.pipelines.text_classification.TextClassificationPipeline"
      ]
     },
     "execution_count": 2,
     "metadata": {},
     "output_type": "execute_result"
    }
   ],
   "source": [
    "classifier = pipeline(\"sentiment-analysis\")\n",
    "type(classifier)"
   ]
  },
  {
   "cell_type": "code",
   "execution_count": 3,
   "id": "cd19b683",
   "metadata": {},
   "outputs": [
    {
     "data": {
      "text/plain": [
       "[{'label': 'POSITIVE', 'score': 0.9997995495796204}]"
      ]
     },
     "execution_count": 3,
     "metadata": {},
     "output_type": "execute_result"
    }
   ],
   "source": [
    "classifier(\"This is a great documentry on animals\")"
   ]
  },
  {
   "cell_type": "code",
   "execution_count": 4,
   "id": "1f325f3e",
   "metadata": {},
   "outputs": [
    {
     "data": {
      "text/plain": [
       "[{'label': 'POSITIVE', 'score': 0.9997575879096985}]"
      ]
     },
     "execution_count": 4,
     "metadata": {},
     "output_type": "execute_result"
    }
   ],
   "source": [
    "classifier(\"This was the great match ever we seen\")"
   ]
  },
  {
   "cell_type": "code",
   "execution_count": 5,
   "id": "592fd784",
   "metadata": {},
   "outputs": [
    {
     "data": {
      "text/plain": [
       "[{'label': 'NEGATIVE', 'score': 0.9996955394744873}]"
      ]
     },
     "execution_count": 5,
     "metadata": {},
     "output_type": "execute_result"
    }
   ],
   "source": [
    "classifier(\"This is so sad that india will not qualified for finals\")"
   ]
  },
  {
   "cell_type": "code",
   "execution_count": 6,
   "id": "d6b74ae0",
   "metadata": {},
   "outputs": [
    {
     "data": {
      "text/plain": [
       "[{'label': 'POSITIVE', 'score': 0.9996815919876099}]"
      ]
     },
     "execution_count": 6,
     "metadata": {},
     "output_type": "execute_result"
    }
   ],
   "source": [
    "classifier(\"This thing was ok\")"
   ]
  },
  {
   "cell_type": "code",
   "execution_count": 7,
   "id": "6fa65bff",
   "metadata": {},
   "outputs": [
    {
     "data": {
      "text/plain": [
       "[{'label': 'NEGATIVE', 'score': 0.7903639674186707}]"
      ]
     },
     "execution_count": 7,
     "metadata": {},
     "output_type": "execute_result"
    }
   ],
   "source": [
    "classifier(\"This is actually good but not great\")"
   ]
  },
  {
   "cell_type": "code",
   "execution_count": 8,
   "id": "dce7c931",
   "metadata": {},
   "outputs": [
    {
     "data": {
      "text/plain": [
       "[{'label': 'POSITIVE', 'score': 0.9998700618743896}]"
      ]
     },
     "execution_count": 8,
     "metadata": {},
     "output_type": "execute_result"
    }
   ],
   "source": [
    "classifier(\"I had a wonderful time at the concert last night!\")"
   ]
  },
  {
   "cell_type": "code",
   "execution_count": 9,
   "id": "376aefc0",
   "metadata": {},
   "outputs": [
    {
     "data": {
      "text/plain": [
       "[{'label': 'POSITIVE', 'score': 0.9998261332511902}]"
      ]
     },
     "execution_count": 9,
     "metadata": {},
     "output_type": "execute_result"
    }
   ],
   "source": [
    "classifier(\"The customer service was incredibly helpful and friendly.\")"
   ]
  },
  {
   "cell_type": "code",
   "execution_count": 10,
   "id": "4a88cf67",
   "metadata": {},
   "outputs": [
    {
     "data": {
      "text/plain": [
       "[{'label': 'NEGATIVE', 'score': 0.9791401624679565}]"
      ]
     },
     "execution_count": 10,
     "metadata": {},
     "output_type": "execute_result"
    }
   ],
   "source": [
    "classifier(\"I went to the store to buy groceries yesterday.\")"
   ]
  },
  {
   "cell_type": "code",
   "execution_count": 11,
   "id": "02a73037",
   "metadata": {},
   "outputs": [
    {
     "data": {
      "text/plain": [
       "[{'label': 'NEGATIVE', 'score': 0.9997784495353699}]"
      ]
     },
     "execution_count": 11,
     "metadata": {},
     "output_type": "execute_result"
    }
   ],
   "source": [
    "classifier(\"I’m really disappointed with the lack of response from support.\")"
   ]
  },
  {
   "cell_type": "code",
   "execution_count": 12,
   "id": "b8fd2203",
   "metadata": {},
   "outputs": [
    {
     "data": {
      "text/plain": [
       "[{'label': 'NEGATIVE', 'score': 0.9995249509811401}]"
      ]
     },
     "execution_count": 12,
     "metadata": {},
     "output_type": "execute_result"
    }
   ],
   "source": [
    "classifier(\"The product looks great but is way too expensive for what it offers.\")"
   ]
  },
  {
   "cell_type": "code",
   "execution_count": 13,
   "id": "1b596be9",
   "metadata": {},
   "outputs": [
    {
     "data": {
      "text/html": [
       "<div>\n",
       "<style scoped>\n",
       "    .dataframe tbody tr th:only-of-type {\n",
       "        vertical-align: middle;\n",
       "    }\n",
       "\n",
       "    .dataframe tbody tr th {\n",
       "        vertical-align: top;\n",
       "    }\n",
       "\n",
       "    .dataframe thead th {\n",
       "        text-align: right;\n",
       "    }\n",
       "</style>\n",
       "<table border=\"1\" class=\"dataframe\">\n",
       "  <thead>\n",
       "    <tr style=\"text-align: right;\">\n",
       "      <th></th>\n",
       "      <th>tweet_id</th>\n",
       "      <th>airline_sentiment</th>\n",
       "      <th>airline_sentiment_confidence</th>\n",
       "      <th>negativereason</th>\n",
       "      <th>negativereason_confidence</th>\n",
       "      <th>airline</th>\n",
       "      <th>airline_sentiment_gold</th>\n",
       "      <th>name</th>\n",
       "      <th>negativereason_gold</th>\n",
       "      <th>retweet_count</th>\n",
       "      <th>text</th>\n",
       "      <th>tweet_coord</th>\n",
       "      <th>tweet_created</th>\n",
       "      <th>tweet_location</th>\n",
       "      <th>user_timezone</th>\n",
       "    </tr>\n",
       "  </thead>\n",
       "  <tbody>\n",
       "    <tr>\n",
       "      <th>0</th>\n",
       "      <td>570306133677760513</td>\n",
       "      <td>neutral</td>\n",
       "      <td>1.0000</td>\n",
       "      <td>NaN</td>\n",
       "      <td>NaN</td>\n",
       "      <td>Virgin America</td>\n",
       "      <td>NaN</td>\n",
       "      <td>cairdin</td>\n",
       "      <td>NaN</td>\n",
       "      <td>0</td>\n",
       "      <td>@VirginAmerica What @dhepburn said.</td>\n",
       "      <td>NaN</td>\n",
       "      <td>2015-02-24 11:35:52 -0800</td>\n",
       "      <td>NaN</td>\n",
       "      <td>Eastern Time (US &amp; Canada)</td>\n",
       "    </tr>\n",
       "    <tr>\n",
       "      <th>1</th>\n",
       "      <td>570301130888122368</td>\n",
       "      <td>positive</td>\n",
       "      <td>0.3486</td>\n",
       "      <td>NaN</td>\n",
       "      <td>0.0000</td>\n",
       "      <td>Virgin America</td>\n",
       "      <td>NaN</td>\n",
       "      <td>jnardino</td>\n",
       "      <td>NaN</td>\n",
       "      <td>0</td>\n",
       "      <td>@VirginAmerica plus you've added commercials t...</td>\n",
       "      <td>NaN</td>\n",
       "      <td>2015-02-24 11:15:59 -0800</td>\n",
       "      <td>NaN</td>\n",
       "      <td>Pacific Time (US &amp; Canada)</td>\n",
       "    </tr>\n",
       "    <tr>\n",
       "      <th>2</th>\n",
       "      <td>570301083672813571</td>\n",
       "      <td>neutral</td>\n",
       "      <td>0.6837</td>\n",
       "      <td>NaN</td>\n",
       "      <td>NaN</td>\n",
       "      <td>Virgin America</td>\n",
       "      <td>NaN</td>\n",
       "      <td>yvonnalynn</td>\n",
       "      <td>NaN</td>\n",
       "      <td>0</td>\n",
       "      <td>@VirginAmerica I didn't today... Must mean I n...</td>\n",
       "      <td>NaN</td>\n",
       "      <td>2015-02-24 11:15:48 -0800</td>\n",
       "      <td>Lets Play</td>\n",
       "      <td>Central Time (US &amp; Canada)</td>\n",
       "    </tr>\n",
       "    <tr>\n",
       "      <th>3</th>\n",
       "      <td>570301031407624196</td>\n",
       "      <td>negative</td>\n",
       "      <td>1.0000</td>\n",
       "      <td>Bad Flight</td>\n",
       "      <td>0.7033</td>\n",
       "      <td>Virgin America</td>\n",
       "      <td>NaN</td>\n",
       "      <td>jnardino</td>\n",
       "      <td>NaN</td>\n",
       "      <td>0</td>\n",
       "      <td>@VirginAmerica it's really aggressive to blast...</td>\n",
       "      <td>NaN</td>\n",
       "      <td>2015-02-24 11:15:36 -0800</td>\n",
       "      <td>NaN</td>\n",
       "      <td>Pacific Time (US &amp; Canada)</td>\n",
       "    </tr>\n",
       "    <tr>\n",
       "      <th>4</th>\n",
       "      <td>570300817074462722</td>\n",
       "      <td>negative</td>\n",
       "      <td>1.0000</td>\n",
       "      <td>Can't Tell</td>\n",
       "      <td>1.0000</td>\n",
       "      <td>Virgin America</td>\n",
       "      <td>NaN</td>\n",
       "      <td>jnardino</td>\n",
       "      <td>NaN</td>\n",
       "      <td>0</td>\n",
       "      <td>@VirginAmerica and it's a really big bad thing...</td>\n",
       "      <td>NaN</td>\n",
       "      <td>2015-02-24 11:14:45 -0800</td>\n",
       "      <td>NaN</td>\n",
       "      <td>Pacific Time (US &amp; Canada)</td>\n",
       "    </tr>\n",
       "    <tr>\n",
       "      <th>5</th>\n",
       "      <td>570300767074181121</td>\n",
       "      <td>negative</td>\n",
       "      <td>1.0000</td>\n",
       "      <td>Can't Tell</td>\n",
       "      <td>0.6842</td>\n",
       "      <td>Virgin America</td>\n",
       "      <td>NaN</td>\n",
       "      <td>jnardino</td>\n",
       "      <td>NaN</td>\n",
       "      <td>0</td>\n",
       "      <td>@VirginAmerica seriously would pay $30 a fligh...</td>\n",
       "      <td>NaN</td>\n",
       "      <td>2015-02-24 11:14:33 -0800</td>\n",
       "      <td>NaN</td>\n",
       "      <td>Pacific Time (US &amp; Canada)</td>\n",
       "    </tr>\n",
       "    <tr>\n",
       "      <th>6</th>\n",
       "      <td>570300616901320704</td>\n",
       "      <td>positive</td>\n",
       "      <td>0.6745</td>\n",
       "      <td>NaN</td>\n",
       "      <td>0.0000</td>\n",
       "      <td>Virgin America</td>\n",
       "      <td>NaN</td>\n",
       "      <td>cjmcginnis</td>\n",
       "      <td>NaN</td>\n",
       "      <td>0</td>\n",
       "      <td>@VirginAmerica yes, nearly every time I fly VX...</td>\n",
       "      <td>NaN</td>\n",
       "      <td>2015-02-24 11:13:57 -0800</td>\n",
       "      <td>San Francisco CA</td>\n",
       "      <td>Pacific Time (US &amp; Canada)</td>\n",
       "    </tr>\n",
       "    <tr>\n",
       "      <th>7</th>\n",
       "      <td>570300248553349120</td>\n",
       "      <td>neutral</td>\n",
       "      <td>0.6340</td>\n",
       "      <td>NaN</td>\n",
       "      <td>NaN</td>\n",
       "      <td>Virgin America</td>\n",
       "      <td>NaN</td>\n",
       "      <td>pilot</td>\n",
       "      <td>NaN</td>\n",
       "      <td>0</td>\n",
       "      <td>@VirginAmerica Really missed a prime opportuni...</td>\n",
       "      <td>NaN</td>\n",
       "      <td>2015-02-24 11:12:29 -0800</td>\n",
       "      <td>Los Angeles</td>\n",
       "      <td>Pacific Time (US &amp; Canada)</td>\n",
       "    </tr>\n",
       "    <tr>\n",
       "      <th>8</th>\n",
       "      <td>570299953286942721</td>\n",
       "      <td>positive</td>\n",
       "      <td>0.6559</td>\n",
       "      <td>NaN</td>\n",
       "      <td>NaN</td>\n",
       "      <td>Virgin America</td>\n",
       "      <td>NaN</td>\n",
       "      <td>dhepburn</td>\n",
       "      <td>NaN</td>\n",
       "      <td>0</td>\n",
       "      <td>@virginamerica Well, I didn't…but NOW I DO! :-D</td>\n",
       "      <td>NaN</td>\n",
       "      <td>2015-02-24 11:11:19 -0800</td>\n",
       "      <td>San Diego</td>\n",
       "      <td>Pacific Time (US &amp; Canada)</td>\n",
       "    </tr>\n",
       "  </tbody>\n",
       "</table>\n",
       "</div>"
      ],
      "text/plain": [
       "             tweet_id airline_sentiment  airline_sentiment_confidence  \\\n",
       "0  570306133677760513           neutral                        1.0000   \n",
       "1  570301130888122368          positive                        0.3486   \n",
       "2  570301083672813571           neutral                        0.6837   \n",
       "3  570301031407624196          negative                        1.0000   \n",
       "4  570300817074462722          negative                        1.0000   \n",
       "5  570300767074181121          negative                        1.0000   \n",
       "6  570300616901320704          positive                        0.6745   \n",
       "7  570300248553349120           neutral                        0.6340   \n",
       "8  570299953286942721          positive                        0.6559   \n",
       "\n",
       "  negativereason  negativereason_confidence         airline  \\\n",
       "0            NaN                        NaN  Virgin America   \n",
       "1            NaN                     0.0000  Virgin America   \n",
       "2            NaN                        NaN  Virgin America   \n",
       "3     Bad Flight                     0.7033  Virgin America   \n",
       "4     Can't Tell                     1.0000  Virgin America   \n",
       "5     Can't Tell                     0.6842  Virgin America   \n",
       "6            NaN                     0.0000  Virgin America   \n",
       "7            NaN                        NaN  Virgin America   \n",
       "8            NaN                        NaN  Virgin America   \n",
       "\n",
       "  airline_sentiment_gold        name negativereason_gold  retweet_count  \\\n",
       "0                    NaN     cairdin                 NaN              0   \n",
       "1                    NaN    jnardino                 NaN              0   \n",
       "2                    NaN  yvonnalynn                 NaN              0   \n",
       "3                    NaN    jnardino                 NaN              0   \n",
       "4                    NaN    jnardino                 NaN              0   \n",
       "5                    NaN    jnardino                 NaN              0   \n",
       "6                    NaN  cjmcginnis                 NaN              0   \n",
       "7                    NaN       pilot                 NaN              0   \n",
       "8                    NaN    dhepburn                 NaN              0   \n",
       "\n",
       "                                                text tweet_coord  \\\n",
       "0                @VirginAmerica What @dhepburn said.         NaN   \n",
       "1  @VirginAmerica plus you've added commercials t...         NaN   \n",
       "2  @VirginAmerica I didn't today... Must mean I n...         NaN   \n",
       "3  @VirginAmerica it's really aggressive to blast...         NaN   \n",
       "4  @VirginAmerica and it's a really big bad thing...         NaN   \n",
       "5  @VirginAmerica seriously would pay $30 a fligh...         NaN   \n",
       "6  @VirginAmerica yes, nearly every time I fly VX...         NaN   \n",
       "7  @VirginAmerica Really missed a prime opportuni...         NaN   \n",
       "8    @virginamerica Well, I didn't…but NOW I DO! :-D         NaN   \n",
       "\n",
       "               tweet_created    tweet_location               user_timezone  \n",
       "0  2015-02-24 11:35:52 -0800               NaN  Eastern Time (US & Canada)  \n",
       "1  2015-02-24 11:15:59 -0800               NaN  Pacific Time (US & Canada)  \n",
       "2  2015-02-24 11:15:48 -0800         Lets Play  Central Time (US & Canada)  \n",
       "3  2015-02-24 11:15:36 -0800               NaN  Pacific Time (US & Canada)  \n",
       "4  2015-02-24 11:14:45 -0800               NaN  Pacific Time (US & Canada)  \n",
       "5  2015-02-24 11:14:33 -0800               NaN  Pacific Time (US & Canada)  \n",
       "6  2015-02-24 11:13:57 -0800  San Francisco CA  Pacific Time (US & Canada)  \n",
       "7  2015-02-24 11:12:29 -0800       Los Angeles  Pacific Time (US & Canada)  \n",
       "8  2015-02-24 11:11:19 -0800         San Diego  Pacific Time (US & Canada)  "
      ]
     },
     "execution_count": 13,
     "metadata": {},
     "output_type": "execute_result"
    }
   ],
   "source": [
    "airline_tweets = pd.read_csv(\"Tweets.csv\")\n",
    "airline_tweets.head(9)"
   ]
  },
  {
   "cell_type": "code",
   "execution_count": 14,
   "id": "8a43281f",
   "metadata": {},
   "outputs": [
    {
     "data": {
      "text/html": [
       "<div>\n",
       "<style scoped>\n",
       "    .dataframe tbody tr th:only-of-type {\n",
       "        vertical-align: middle;\n",
       "    }\n",
       "\n",
       "    .dataframe tbody tr th {\n",
       "        vertical-align: top;\n",
       "    }\n",
       "\n",
       "    .dataframe thead th {\n",
       "        text-align: right;\n",
       "    }\n",
       "</style>\n",
       "<table border=\"1\" class=\"dataframe\">\n",
       "  <thead>\n",
       "    <tr style=\"text-align: right;\">\n",
       "      <th></th>\n",
       "      <th>airline_sentiment</th>\n",
       "      <th>text</th>\n",
       "    </tr>\n",
       "  </thead>\n",
       "  <tbody>\n",
       "    <tr>\n",
       "      <th>0</th>\n",
       "      <td>neutral</td>\n",
       "      <td>@VirginAmerica What @dhepburn said.</td>\n",
       "    </tr>\n",
       "    <tr>\n",
       "      <th>1</th>\n",
       "      <td>positive</td>\n",
       "      <td>@VirginAmerica plus you've added commercials t...</td>\n",
       "    </tr>\n",
       "    <tr>\n",
       "      <th>2</th>\n",
       "      <td>neutral</td>\n",
       "      <td>@VirginAmerica I didn't today... Must mean I n...</td>\n",
       "    </tr>\n",
       "    <tr>\n",
       "      <th>3</th>\n",
       "      <td>negative</td>\n",
       "      <td>@VirginAmerica it's really aggressive to blast...</td>\n",
       "    </tr>\n",
       "    <tr>\n",
       "      <th>4</th>\n",
       "      <td>negative</td>\n",
       "      <td>@VirginAmerica and it's a really big bad thing...</td>\n",
       "    </tr>\n",
       "  </tbody>\n",
       "</table>\n",
       "</div>"
      ],
      "text/plain": [
       "  airline_sentiment                                               text\n",
       "0           neutral                @VirginAmerica What @dhepburn said.\n",
       "1          positive  @VirginAmerica plus you've added commercials t...\n",
       "2           neutral  @VirginAmerica I didn't today... Must mean I n...\n",
       "3          negative  @VirginAmerica it's really aggressive to blast...\n",
       "4          negative  @VirginAmerica and it's a really big bad thing..."
      ]
     },
     "execution_count": 14,
     "metadata": {},
     "output_type": "execute_result"
    }
   ],
   "source": [
    "df = airline_tweets[[\"airline_sentiment\", \"text\"]]\n",
    "df.head()"
   ]
  },
  {
   "cell_type": "code",
   "execution_count": 15,
   "id": "570da986",
   "metadata": {},
   "outputs": [
    {
     "data": {
      "image/png": "[encoded data removed]",
      "text/plain": [
       "<Figure size 640x480 with 1 Axes>"
      ]
     },
     "metadata": {},
     "output_type": "display_data"
    }
   ],
   "source": [
    "sns.countplot(df, x=\"airline_sentiment\", palette = \"viridis\");\n",
    "plt.xlabel(\"Airline_sentiment\")\n",
    "plt.ylabel(\"Count\")\n",
    "plt.show()\n"
   ]
  },
  {
   "cell_type": "code",
   "execution_count": 16,
   "id": "a32e1bb4",
   "metadata": {},
   "outputs": [],
   "source": [
    "df = df[df[\"airline_sentiment\"] != \"neutral\"]"
   ]
  },
  {
   "cell_type": "code",
   "execution_count": 17,
   "id": "36bef652",
   "metadata": {},
   "outputs": [],
   "source": [
    "df['target']= df['airline_sentiment'].map({'positive': 1, 'negative' : 0})"
   ]
  },
  {
   "cell_type": "code",
   "execution_count": 18,
   "id": "a2c323a0",
   "metadata": {},
   "outputs": [
    {
     "name": "stdout",
     "output_type": "stream",
     "text": [
      "number of rows:  11541\n"
     ]
    }
   ],
   "source": [
    "print(\"number of rows: \", df.shape[0])"
   ]
  },
  {
   "cell_type": "code",
   "execution_count": 21,
   "id": "8c9b2412",
   "metadata": {},
   "outputs": [
    {
     "data": {
      "text/plain": [
       "[{'label': 'POSITIVE', 'score': 0.607086718082428},\n",
       " {'label': 'NEGATIVE', 'score': 0.9973449110984802},\n",
       " {'label': 'NEGATIVE', 'score': 0.9995823502540588},\n",
       " {'label': 'NEGATIVE', 'score': 0.9854251742362976},\n",
       " {'label': 'POSITIVE', 'score': 0.9553210139274597}]"
      ]
     },
     "execution_count": 21,
     "metadata": {},
     "output_type": "execute_result"
    }
   ],
   "source": [
    "texts = df[\"text\"].tolist()\n",
    "predictions = classifier(texts)\n",
    "predictions[:5]"
   ]
  },
  {
   "cell_type": "code",
   "execution_count": 22,
   "id": "72f344fb",
   "metadata": {},
   "outputs": [],
   "source": [
    "probs=[pred['score'] if pred['label'].startswith('P') else 1- pred['score'] for pred in predictions]"
   ]
  },
  {
   "cell_type": "code",
   "execution_count": 23,
   "id": "7ea671d9",
   "metadata": {},
   "outputs": [],
   "source": [
    "pred = np.array([1 if pred['label'].startswith('P') else 0 for pred in predictions])"
   ]
  },
  {
   "cell_type": "code",
   "execution_count": 25,
   "id": "0afbb3e6",
   "metadata": {},
   "outputs": [
    {
     "name": "stdout",
     "output_type": "stream",
     "text": [
      "Accuracy: 88.99 %\n"
     ]
    }
   ],
   "source": [
    "print(f\"Accuracy: {round(np.mean(df['target'] == pred) *100, 2)} %\")"
   ]
  },
  {
   "cell_type": "code",
   "execution_count": 35,
   "id": "e808183d",
   "metadata": {},
   "outputs": [],
   "source": [
    "cm = confusion_matrix(df['target'], pred, normalize=\"true\")\n"
   ]
  },
  {
   "cell_type": "code",
   "execution_count": 36,
   "id": "345715d2",
   "metadata": {},
   "outputs": [
    {
     "data": {
      "image/png": "[encoded data removed]",
      "text/plain": [
       "<Figure size 800x600 with 2 Axes>"
      ]
     },
     "metadata": {},
     "output_type": "display_data"
    }
   ],
   "source": [
    "def plot_confusion_matrix(confusion_matrix, labels):\n",
    "    plt.figure(figsize=(8,6))  # Corrected 'figure' to 'figsize'\n",
    "    sns.set(font_scale=1.4)  # Use sns.set() to control font scale\n",
    "    \n",
    "    # Plot heatmap\n",
    "    sns.heatmap(confusion_matrix, annot=True, fmt='g', xticklabels=labels, yticklabels=labels)\n",
    "    \n",
    "    plt.title(\"Confusion Matrix\")\n",
    "    plt.xlabel(\"Predicted\")\n",
    "    plt.ylabel(\"Actual\")\n",
    "    plt.show()\n",
    "\n",
    "# Call the function\n",
    "plot_confusion_matrix(cm, [\"Negative\", \"Positive\"])\n",
    "\n"
   ]
  },
  {
   "cell_type": "markdown",
   "id": "9950a61a",
   "metadata": {},
   "source": [
    "# Text_Generation:"
   ]
  },
  {
   "cell_type": "code",
   "execution_count": 37,
   "id": "f2c0a17e",
   "metadata": {},
   "outputs": [
    {
     "data": {
      "text/html": [
       "<div>\n",
       "<style scoped>\n",
       "    .dataframe tbody tr th:only-of-type {\n",
       "        vertical-align: middle;\n",
       "    }\n",
       "\n",
       "    .dataframe tbody tr th {\n",
       "        vertical-align: top;\n",
       "    }\n",
       "\n",
       "    .dataframe thead th {\n",
       "        text-align: right;\n",
       "    }\n",
       "</style>\n",
       "<table border=\"1\" class=\"dataframe\">\n",
       "  <thead>\n",
       "    <tr style=\"text-align: right;\">\n",
       "      <th></th>\n",
       "      <th>Name</th>\n",
       "      <th>Content</th>\n",
       "      <th>Collection</th>\n",
       "      <th>Year of Publication</th>\n",
       "    </tr>\n",
       "  </thead>\n",
       "  <tbody>\n",
       "    <tr>\n",
       "      <th>0</th>\n",
       "      <td>NaN</td>\n",
       "      <td>NaN</td>\n",
       "      <td>NaN</td>\n",
       "      <td>NaN</td>\n",
       "    </tr>\n",
       "    <tr>\n",
       "      <th>1</th>\n",
       "      <td>Stopping by Woods on a Snowy Evening</td>\n",
       "      <td>Whose woods these are I think I know.   \\nHis ...</td>\n",
       "      <td>New Hampshire</td>\n",
       "      <td>1923.0</td>\n",
       "    </tr>\n",
       "    <tr>\n",
       "      <th>2</th>\n",
       "      <td>Fire and Ice</td>\n",
       "      <td>Some say the world will end in fire,\\nSome say...</td>\n",
       "      <td>New Hampshire</td>\n",
       "      <td>1923.0</td>\n",
       "    </tr>\n",
       "    <tr>\n",
       "      <th>3</th>\n",
       "      <td>The Aim was Song</td>\n",
       "      <td>Before man came to blow it right\\nThe wind onc...</td>\n",
       "      <td>New Hampshire</td>\n",
       "      <td>1923.0</td>\n",
       "    </tr>\n",
       "    <tr>\n",
       "      <th>4</th>\n",
       "      <td>The Need of Being Versed in Country Things</td>\n",
       "      <td>The house had gone to bring again\\nTo the midn...</td>\n",
       "      <td>New Hampshire</td>\n",
       "      <td>1923.0</td>\n",
       "    </tr>\n",
       "  </tbody>\n",
       "</table>\n",
       "</div>"
      ],
      "text/plain": [
       "                                        Name   \\\n",
       "0                                         NaN   \n",
       "1        Stopping by Woods on a Snowy Evening   \n",
       "2                                Fire and Ice   \n",
       "3                            The Aim was Song   \n",
       "4  The Need of Being Versed in Country Things   \n",
       "\n",
       "                                             Content     Collection  \\\n",
       "0                                                NaN            NaN   \n",
       "1  Whose woods these are I think I know.   \\nHis ...  New Hampshire   \n",
       "2  Some say the world will end in fire,\\nSome say...  New Hampshire   \n",
       "3  Before man came to blow it right\\nThe wind onc...  New Hampshire   \n",
       "4  The house had gone to bring again\\nTo the midn...  New Hampshire   \n",
       "\n",
       "   Year of Publication  \n",
       "0                  NaN  \n",
       "1               1923.0  \n",
       "2               1923.0  \n",
       "3               1923.0  \n",
       "4               1923.0  "
      ]
     },
     "execution_count": 37,
     "metadata": {},
     "output_type": "execute_result"
    }
   ],
   "source": [
    "import pandas as pd\n",
    "poems= pd.read_csv(\"robert_frost_collection.csv\")\n",
    "poems.head()"
   ]
  },
  {
   "cell_type": "code",
   "execution_count": 38,
   "id": "373bb662",
   "metadata": {},
   "outputs": [],
   "source": [
    "content = poems[\"Content\"].dropna().tolist()"
   ]
  },
  {
   "cell_type": "code",
   "execution_count": 39,
   "id": "f920ab7e",
   "metadata": {},
   "outputs": [],
   "source": [
    "lines = []\n",
    "for poem in content:\n",
    "    for line in poem.split(\"\\n\"):\n",
    "        lines.append(line.rstrip())"
   ]
  },
  {
   "cell_type": "code",
   "execution_count": 40,
   "id": "5da52d97",
   "metadata": {},
   "outputs": [
    {
     "data": {
      "text/plain": [
       "['Whose woods these are I think I know.',\n",
       " 'His house is in the village though;',\n",
       " 'He will not see me stopping here',\n",
       " 'To watch his woods fill up with snow.',\n",
       " 'My little horse must think it queer']"
      ]
     },
     "execution_count": 40,
     "metadata": {},
     "output_type": "execute_result"
    }
   ],
   "source": [
    "lines = [line for line in lines if len(line) > 0]\n",
    "lines[:5]"
   ]
  },
  {
   "cell_type": "code",
   "execution_count": 41,
   "id": "761df07d",
   "metadata": {},
   "outputs": [
    {
     "name": "stderr",
     "output_type": "stream",
     "text": [
      "No model was supplied, defaulted to openai-community/gpt2 and revision 607a30d (https://huggingface.co/openai-community/gpt2).\n",
      "Using a pipeline without specifying a model name and revision in production is not recommended.\n"
     ]
    },
    {
     "data": {
      "application/vnd.jupyter.widget-view+json": {
       "model_id": "8f356505fea84514a8f233b0539be0af",
       "version_major": 2,
       "version_minor": 0
      },
      "text/plain": [
       "config.json:   0%|          | 0.00/665 [00:00<?, ?B/s]"
      ]
     },
     "metadata": {},
     "output_type": "display_data"
    },
    {
     "data": {
      "application/vnd.jupyter.widget-view+json": {
       "model_id": "524d870f5b604b9a8675273c44b06f1b",
       "version_major": 2,
       "version_minor": 0
      },
      "text/plain": [
       "model.safetensors:   0%|          | 0.00/548M [00:00<?, ?B/s]"
      ]
     },
     "metadata": {},
     "output_type": "display_data"
    },
    {
     "data": {
      "application/vnd.jupyter.widget-view+json": {
       "model_id": "abf40c7a79d94b2bb437afe15545741f",
       "version_major": 2,
       "version_minor": 0
      },
      "text/plain": [
       "generation_config.json:   0%|          | 0.00/124 [00:00<?, ?B/s]"
      ]
     },
     "metadata": {},
     "output_type": "display_data"
    },
    {
     "data": {
      "application/vnd.jupyter.widget-view+json": {
       "model_id": "861752c64e264316b833cb3119d8c61c",
       "version_major": 2,
       "version_minor": 0
      },
      "text/plain": [
       "tokenizer_config.json:   0%|          | 0.00/26.0 [00:00<?, ?B/s]"
      ]
     },
     "metadata": {},
     "output_type": "display_data"
    },
    {
     "data": {
      "application/vnd.jupyter.widget-view+json": {
       "model_id": "68d568d19bd94934a95a8a3d3b2adf4b",
       "version_major": 2,
       "version_minor": 0
      },
      "text/plain": [
       "vocab.json:   0%|          | 0.00/1.04M [00:00<?, ?B/s]"
      ]
     },
     "metadata": {},
     "output_type": "display_data"
    },
    {
     "data": {
      "application/vnd.jupyter.widget-view+json": {
       "model_id": "6b6a0a90259b4954b513c50e64817170",
       "version_major": 2,
       "version_minor": 0
      },
      "text/plain": [
       "merges.txt:   0%|          | 0.00/456k [00:00<?, ?B/s]"
      ]
     },
     "metadata": {},
     "output_type": "display_data"
    },
    {
     "data": {
      "application/vnd.jupyter.widget-view+json": {
       "model_id": "6683b630a83c4649997f910ee26fa549",
       "version_major": 2,
       "version_minor": 0
      },
      "text/plain": [
       "tokenizer.json:   0%|          | 0.00/1.36M [00:00<?, ?B/s]"
      ]
     },
     "metadata": {},
     "output_type": "display_data"
    }
   ],
   "source": [
    "gen = pipeline(\"text-generation\")"
   ]
  },
  {
   "cell_type": "code",
   "execution_count": 42,
   "id": "c87a7907",
   "metadata": {},
   "outputs": [
    {
     "data": {
      "text/plain": [
       "'Whose woods these are I think I know.'"
      ]
     },
     "execution_count": 42,
     "metadata": {},
     "output_type": "execute_result"
    }
   ],
   "source": [
    "lines[0]"
   ]
  },
  {
   "cell_type": "code",
   "execution_count": 44,
   "id": "e86c1f30",
   "metadata": {},
   "outputs": [
    {
     "name": "stderr",
     "output_type": "stream",
     "text": [
      "Setting `pad_token_id` to `eos_token_id`:None for open-end generation.\n"
     ]
    },
    {
     "data": {
      "text/plain": [
       "[{'generated_text': \"Whose woods these are I think I know. I like mine for I see they go up for the top ten right now\\n\\nI like mine for he sees I like that I like that it's something the whole place can't afford to give\"}]"
      ]
     },
     "execution_count": 44,
     "metadata": {},
     "output_type": "execute_result"
    }
   ],
   "source": [
    "gen(lines[0],max_length = 50)"
   ]
  },
  {
   "cell_type": "code",
   "execution_count": 45,
   "id": "e85b3808",
   "metadata": {},
   "outputs": [
    {
     "name": "stderr",
     "output_type": "stream",
     "text": [
      "Setting `pad_token_id` to `eos_token_id`:None for open-end generation.\n"
     ]
    },
    {
     "data": {
      "text/plain": [
       "[{'generated_text': \"His house is in the village though; so there is a little garden at the far end of the small driveway. From there we drive up on it and have a walk up to the house, where the whole house is. At the end of the drive there is a man's house, but it\"},\n",
       " {'generated_text': \"His house is in the village though; he's in a room with four of us, with a young boy, an odd girl, and a little girl who's in a carriage with a boy that's in a carriage with five ladies, and a girl in a carriage that's in the castle.\"}]"
      ]
     },
     "execution_count": 45,
     "metadata": {},
     "output_type": "execute_result"
    }
   ],
   "source": [
    "gen(lines[1], max_length= 60, num_return_sequences = 2)"
   ]
  },
  {
   "cell_type": "code",
   "execution_count": 48,
   "id": "3a7448b7",
   "metadata": {},
   "outputs": [],
   "source": [
    "import textwrap\n",
    "def wrap(x):\n",
    "    return textwrap.fill(x, replace_whitespace= False,fix_sentence_endings = True)"
   ]
  },
  {
   "cell_type": "code",
   "execution_count": 51,
   "id": "6a35589f",
   "metadata": {},
   "outputs": [
    {
     "name": "stderr",
     "output_type": "stream",
     "text": [
      "Setting `pad_token_id` to `eos_token_id`:None for open-end generation.\n"
     ]
    },
    {
     "name": "stdout",
     "output_type": "stream",
     "text": [
      "Whose woods these are I think I know.  I've seen them before, though.\n",
      "I've had them at home before.  They may taste good - I'm not sure.\n",
      "But it really depends on who you ask, sir.  I might as well just enjoy\n",
      "the fruits and berries.  I think\n"
     ]
    }
   ],
   "source": [
    "out = gen(lines[0], max_length= 60)\n",
    "print(wrap(out[0][\"generated_text\"]))"
   ]
  },
  {
   "cell_type": "code",
   "execution_count": 53,
   "id": "89b60327",
   "metadata": {},
   "outputs": [
    {
     "name": "stderr",
     "output_type": "stream",
     "text": [
      "Setting `pad_token_id` to `eos_token_id`:None for open-end generation.\n"
     ]
    },
    {
     "name": "stdout",
     "output_type": "stream",
     "text": [
      "Write a short story where artificial intelligence becomes self-aware,\n",
      "but instead of causing chaos, it tries to make friends with humans.\n",
      "Nancy and her friend John, who has a crush on the first girl he meets\n",
      "in the manga and only really met John in an interview, realize there's\n",
      "only one way to find him: Find a secret room.  That way of finding a\n",
      "secret room is one of the more subtle ways she can create characters\n",
      "in the novel.  When John's roommate, Missy, asks Nancy for some\n",
      "secrets, Nancy gets her answer back.\n",
      "\n",
      "Despite the \"secret\" nature of\n",
      "the relationship, the final scene between Nancy and John is about\n",
      "John's secret.  He sees John's new girlfriend and wants to talk to her\n",
      "at the restaurant.  The man in the pink scarf takes charge (and only\n",
      "if John wants to go out with the guy, who looks like John is wearing\n",
      "the same outfit all over again). John, who really, really hates his\n",
      "girlfriend, tries \"to tell her what he thinks\" before telling Nancy\n",
      "it's a sign of weakness that John likes him like he doesn't like the\n",
      "other people he'll need to kill.  John can also use those power ups to\n",
      "help Nancy deal with his anger, but they also involve some really\n",
      "difficult decisions.\n",
      "\n",
      "The final scene with the mysterious man standing\n",
      "next to John's house is a lot of fun if you love the way that this\n",
      "scene of the scene was shot.  It almost reminded me of the last scene\n",
      "in TAS. Here's a couple of scenes, one in the scene where a bunch of\n",
      "white people attack the house, and the other in the scene of Nancy and\n",
      "John coming to the same conclusion.  (This scene is more of the same.)\n",
      "This is also the one of the last scenes in the final arc in the\n",
      "series, where John finds the secret bedroom she's been locked away\n",
      "from and accidentally reveals to the others that she's secretly in\n",
      "possession of a mysterious \"trap\", which she sets up with the help of\n",
      "a mysterious white person, who happens to be a mysterious girl called\n",
      "\"Lady Lady\".\n",
      "\n",
      "It is interesting to note how Nancy was able to work her\n",
      "way into this story by making it a sort of puzzle as to how she got\n",
      "into the series.  The second of \"Liar,\" Nancy decides to escape and\n",
      "finds a secret room.  This may be the only time when you will be able\n",
      "to see a series with such a powerful theme.  I don't know for sure\n",
      "what will happen with each of the first few arcs, but this is the\n",
      "first time I've seen any such case that I can put it behind me.  I\n",
      "hope this isn't the same as something else, but maybe it could help\n",
      "make this scene more interesting in later chapters.\n",
      "\n",
      "A lot of\n",
      "character development between characters and one of the main\n",
      "characters in the final arc was how the series developed itself.  The\n",
      "relationship between John and Nancy has been one that I've been drawn\n",
      "to since the first book was published.  Now, I guess it's only with\n",
      "the fourth season that I don't get an opportunity to read more about\n",
      "this.  However, this really is the second story arc in the series I'll\n",
      "be focusing on now, and I expect my readers to get very excited about\n",
      "what happened between the characters in this story.\n"
     ]
    }
   ],
   "source": [
    "prompt = \"Write a short story where artificial intelligence becomes self-aware, but instead of causing chaos, it tries to make friends with humans.\"\n",
    "out= gen(prompt, max_length= 1000)\n",
    "print(wrap(out[0][\"generated_text\"]))"
   ]
  },
  {
   "cell_type": "code",
   "execution_count": 54,
   "id": "7c13444a",
   "metadata": {},
   "outputs": [
    {
     "name": "stderr",
     "output_type": "stream",
     "text": [
      "Setting `pad_token_id` to `eos_token_id`:None for open-end generation.\n"
     ]
    },
    {
     "name": "stdout",
     "output_type": "stream",
     "text": [
      "Artificial Intelligence have wide range of applicastions such as the\n",
      "human language that they can create, interpret and create information,\n",
      "the natural sciences, social sciences, political science, and\n",
      "humanities.\n",
      "\n",
      "According to Human Performance, they produce a wide range\n",
      "of \"new abilities (and functions) in an effort to help you keep the\n",
      "task on track\", without even knowing there is an actual performance\n",
      "problem.  It's no surprise that the list of useful people is rather\n",
      "short though, so it probably won't matter to you that many of these\n",
      "people will actually use their skills to improve your performance.\n",
      "However, what is really the point of the list of useful people, if\n",
      "they use it to be useful at all?  That's not what matters.  Those who\n",
      "want to improve themselves can use their skills to build an\n",
      "understanding of the world and to make decisions that will help them\n",
      "find the best way to achieve the biggest potential of their life.\n",
      "\n",
      "If\n",
      "you don't have an interest in getting a brain for your current work or\n",
      "personal life then you aren't wasting your time or effort at improving\n",
      "or improving yourself, rather, they're wasting your time and you are\n",
      "wasting your energy from this list.\n",
      "\n",
      "Here's how to improve yourself to\n",
      "succeed in the field?\n",
      "\n",
      "If you just put on your performance enhancing\n",
      "shoes you might never find the one with your new performance enhancing\n",
      "shoes – the real world.\n",
      "\n",
      "The real world – it's not quite what we would\n",
      "call a world out there but a virtual one filled with you, all working\n",
      "together.\n",
      "\n",
      "In a short while, all the real world stuff will get you the\n",
      "job you desperately need.  If you're not a real world guy then when\n",
      "you're done making your living with the job the real world could\n",
      "easily become your real world.\n",
      "\n",
      "You might think that because no one\n",
      "uses computers with you – you've been made to work more like Google\n",
      "when no effort's been spent on making sure you don't screw up your\n"
     ]
    }
   ],
   "source": [
    "prompt = \"Artificial Intelligence have wide range of applicastions such as\"\n",
    "out= gen(prompt, max_length= 400)\n",
    "print(wrap(out[0][\"generated_text\"]))"
   ]
  },
  {
   "cell_type": "code",
   "execution_count": null,
   "id": "78aeac22",
   "metadata": {},
   "outputs": [],
   "source": []
  }
 ],
 "metadata": {
  "kernelspec": {
   "display_name": "Python 3 (ipykernel)",
   "language": "python",
   "name": "python3"
  },
  "language_info": {
   "codemirror_mode": {
    "name": "ipython",
    "version": 3
   },
   "file_extension": ".py",
   "mimetype": "text/x-python",
   "name": "python",
   "nbconvert_exporter": "python",
   "pygments_lexer": "ipython3",
   "version": "3.9.17"
  }
 },
 "nbformat": 4,
 "nbformat_minor": 5
}
